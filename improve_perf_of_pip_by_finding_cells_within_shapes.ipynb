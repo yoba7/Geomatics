{
  "nbformat": 4,
  "nbformat_minor": 0,
  "metadata": {
    "colab": {
      "name": "improve perf of pip by finding cells within shapes.ipynb",
      "version": "0.3.2",
      "provenance": [],
      "collapsed_sections": [],
      "toc_visible": true,
      "include_colab_link": true
    },
    "kernelspec": {
      "display_name": "Python 3",
      "language": "python",
      "name": "python3"
    }
  },
  "cells": [
    {
      "cell_type": "markdown",
      "metadata": {
        "id": "view-in-github",
        "colab_type": "text"
      },
      "source": [
        "<a href=\"https://colab.research.google.com/github/yoba7/Geomatics/blob/master/improve_perf_of_pip_by_finding_cells_within_shapes.ipynb\" target=\"_parent\"><img src=\"https://colab.research.google.com/assets/colab-badge.svg\" alt=\"Open In Colab\"/></a>"
      ]
    },
    {
      "metadata": {
        "id": "RbOGAw5f5Tj8",
        "colab_type": "text"
      },
      "cell_type": "markdown",
      "source": [
        "# Google colab environment intialisation"
      ]
    },
    {
      "metadata": {
        "colab_type": "text",
        "id": "_M-6QW_UFn-Q"
      },
      "cell_type": "markdown",
      "source": [
        "## Missing Linux librairies\n",
        "\n",
        "We need to install one Ubuntu package. It is a shared library that extends SQLite functionalities. It is the [spatialite](https://en.wikipedia.org/wiki/SpatiaLite) extension."
      ]
    },
    {
      "metadata": {
        "colab_type": "code",
        "id": "eGjrSk2VfKCm",
        "colab": {}
      },
      "cell_type": "code",
      "source": [
        "%%capture\n",
        "\n",
        "!apt-get install libsqlite3-mod-spatialite"
      ],
      "execution_count": 0,
      "outputs": []
    },
    {
      "metadata": {
        "colab_type": "text",
        "id": "DvUS_GL6FcOV"
      },
      "cell_type": "markdown",
      "source": [
        "## Python imports"
      ]
    },
    {
      "metadata": {
        "colab_type": "code",
        "id": "ZLdpTGS-eA43",
        "colab": {}
      },
      "cell_type": "code",
      "source": [
        "import sqlite3  # Spatialite is a SQLite extension. So we need to import SQLite.\n",
        "import os\n",
        "import pandas as pd\n",
        "import re # re = regular expressions"
      ],
      "execution_count": 0,
      "outputs": []
    },
    {
      "metadata": {
        "id": "kY348li1ugiT",
        "colab_type": "text"
      },
      "cell_type": "markdown",
      "source": [
        "# Statistical sectors (T_shapes table)"
      ]
    },
    {
      "metadata": {
        "colab_type": "text",
        "id": "8jMRdcAMGzU-"
      },
      "cell_type": "markdown",
      "source": [
        "## Download Statistical sectors from StatBel\n",
        "\n",
        "We can now create our database."
      ]
    },
    {
      "metadata": {
        "colab_type": "code",
        "id": "azJETdwNt26x",
        "outputId": "c2cbaf8b-5237-4f92-9d09-152b22d0bf44",
        "colab": {
          "base_uri": "https://localhost:8080/",
          "height": 255
        }
      },
      "cell_type": "code",
      "source": [
        "!wget https://statbel.fgov.be/sites/default/files/files/opendata/Statistische%20sectoren/sh_statbel_spatialite.zip\n",
        "!unzip sh_statbel_spatialite.zip\n",
        "!rm sh_statbel_spatialite.zip"
      ],
      "execution_count": 0,
      "outputs": [
        {
          "output_type": "stream",
          "text": [
            "--2019-03-09 15:38:56--  https://statbel.fgov.be/sites/default/files/files/opendata/Statistische%20sectoren/sh_statbel_spatialite.zip\n",
            "Resolving statbel.fgov.be (statbel.fgov.be)... 193.191.245.224\n",
            "Connecting to statbel.fgov.be (statbel.fgov.be)|193.191.245.224|:443... connected.\n",
            "HTTP request sent, awaiting response... 200 OK\n",
            "Length: 16783727 (16M) [application/zip]\n",
            "Saving to: ‘sh_statbel_spatialite.zip’\n",
            "\n",
            "sh_statbel_spatiali 100%[===================>]  16.01M   673KB/s    in 25s     \n",
            "\n",
            "2019-03-09 15:39:22 (661 KB/s) - ‘sh_statbel_spatialite.zip’ saved [16783727/16783727]\n",
            "\n",
            "Archive:  sh_statbel_spatialite.zip\n",
            "replace sh_statbel_statistical_sectors.sqlite? [y]es, [n]o, [A]ll, [N]one, [r]ename: A\n",
            "  inflating: sh_statbel_statistical_sectors.sqlite  \n"
          ],
          "name": "stdout"
        }
      ]
    },
    {
      "metadata": {
        "colab_type": "text",
        "id": "rXaLxjIpTAPX"
      },
      "cell_type": "markdown",
      "source": [
        "## Make a copy of Statistical sectors\n",
        "\n",
        "We'll work on this copy."
      ]
    },
    {
      "metadata": {
        "colab_type": "code",
        "id": "WEU1KHnDwKcd",
        "colab": {}
      },
      "cell_type": "code",
      "source": [
        "!cp sh_statbel_statistical_sectors.sqlite point2sector_3035.sqlite"
      ],
      "execution_count": 0,
      "outputs": []
    },
    {
      "metadata": {
        "colab_type": "text",
        "id": "B4XJJvO2TG5X"
      },
      "cell_type": "markdown",
      "source": [
        "## Transform SQLite database into Spatialite database"
      ]
    },
    {
      "metadata": {
        "colab_type": "code",
        "id": "JW9DdOBveO-d",
        "colab": {}
      },
      "cell_type": "code",
      "source": [
        "os.environ[\"SPATIALITE_SECURITY\"]=\"relaxed\" \n",
        "\n",
        "connR = sqlite3.connect('point2sector_3035.sqlite')\n",
        "connR.enable_load_extension(True)\n",
        "connR.execute('select load_extension(\"mod_spatialite.so\")')   \n",
        "connR.execute('select InitSpatialMetaData(1);') \n",
        "curR = connR.cursor()"
      ],
      "execution_count": 0,
      "outputs": []
    },
    {
      "metadata": {
        "colab_type": "text",
        "id": "DUzZ-mE1TSSd"
      },
      "cell_type": "markdown",
      "source": [
        "## Create a EPSG:3035 version of Statistical sectors (ETRS 89 - LAEA)"
      ]
    },
    {
      "metadata": {
        "colab_type": "code",
        "id": "ySSH1dwYzwfx",
        "outputId": "df349dd7-0090-4207-9bd7-90ad114ef340",
        "colab": {
          "base_uri": "https://localhost:8080/",
          "height": 111
        }
      },
      "cell_type": "code",
      "source": [
        "curR.execute('''create table T_shapes as\n",
        "                select cd_sector as id_shape, castToMultipolygon(transform(GeomFromWKB(AsBinary(geometry),31370), 3035))  as geometry\n",
        "                from sh_statbel_statistical_sectors''')\n",
        "\n",
        "curR.execute(\"select recovergeometrycolumn('T_shapes', 'geometry',3035,'MULTIPOLYGON','XY')\")\n",
        "curR.execute(\"select createSpatialIndex('T_shapes', 'geometry')\")\n",
        "\n",
        "connR.commit()\n",
        "\n",
        "df=pd.read_sql(\"select id_shape, st_area(geometry) as ms_area_m2 from T_shapes limit 2\",connR)\n",
        "df.head()"
      ],
      "execution_count": 0,
      "outputs": [
        {
          "output_type": "execute_result",
          "data": {
            "text/html": [
              "<div>\n",
              "<style scoped>\n",
              "    .dataframe tbody tr th:only-of-type {\n",
              "        vertical-align: middle;\n",
              "    }\n",
              "\n",
              "    .dataframe tbody tr th {\n",
              "        vertical-align: top;\n",
              "    }\n",
              "\n",
              "    .dataframe thead th {\n",
              "        text-align: right;\n",
              "    }\n",
              "</style>\n",
              "<table border=\"1\" class=\"dataframe\">\n",
              "  <thead>\n",
              "    <tr style=\"text-align: right;\">\n",
              "      <th></th>\n",
              "      <th>id_shape</th>\n",
              "      <th>ms_area_m2</th>\n",
              "    </tr>\n",
              "  </thead>\n",
              "  <tbody>\n",
              "    <tr>\n",
              "      <th>0</th>\n",
              "      <td>11001A00-</td>\n",
              "      <td>531588.266569</td>\n",
              "    </tr>\n",
              "    <tr>\n",
              "      <th>1</th>\n",
              "      <td>11001A01-</td>\n",
              "      <td>671154.216445</td>\n",
              "    </tr>\n",
              "  </tbody>\n",
              "</table>\n",
              "</div>"
            ],
            "text/plain": [
              "    id_shape     ms_area_m2\n",
              "0  11001A00-  531588.266569\n",
              "1  11001A01-  671154.216445"
            ]
          },
          "metadata": {
            "tags": []
          },
          "execution_count": 37
        }
      ]
    },
    {
      "metadata": {
        "id": "f8s2whzSqQbW",
        "colab_type": "text"
      },
      "cell_type": "markdown",
      "source": [
        "# Create grid (T_grid table)"
      ]
    },
    {
      "metadata": {
        "id": "RSKsbewcqQbh",
        "colab_type": "text"
      },
      "cell_type": "markdown",
      "source": [
        "## Function to encode a cell in Well Known Text (wkt) format"
      ]
    },
    {
      "metadata": {
        "id": "nu-eFAO6qQbj",
        "colab_type": "code",
        "outputId": "27551ed3-4b5a-45d7-bfcd-c7b0c59d6703",
        "colab": {
          "base_uri": "https://localhost:8080/",
          "height": 34
        }
      },
      "cell_type": "code",
      "source": [
        "def cellWkt(x,y,l):\n",
        "    return \"POLYGON((\"+\\\n",
        "            str(x+0*l)+\" \"+str(y+0*l)+\",\"+\\\n",
        "            str(x+1*l)+\" \"+str(y+0*l)+\",\"+\\\n",
        "            str(x+1*l)+\" \"+str(y+1*l)+\",\"+\\\n",
        "            str(x+0*l)+\" \"+str(y+1*l)+\",\"+\\\n",
        "            str(x+0*l)+\" \"+str(y+0*l)+\"))\"\n",
        "            \n",
        "print('Wkt for cell with lower-left corner in ({x},{y}) and length {l} is: {wkt}'.format(x=0,y=0,l=1,wkt=cellWkt(0,0,1)))"
      ],
      "execution_count": 0,
      "outputs": [
        {
          "output_type": "stream",
          "text": [
            "Wkt for cell with lower-left corner in (0,0) and length 1 is: POLYGON((0 0,1 0,1 1,0 1,0 0))\n"
          ],
          "name": "stdout"
        }
      ]
    },
    {
      "metadata": {
        "id": "nY5M-4o-tzEh",
        "colab_type": "text"
      },
      "cell_type": "markdown",
      "source": [
        "## Function to create an empty grid table"
      ]
    },
    {
      "metadata": {
        "id": "OTTkeQcftyFK",
        "colab_type": "code",
        "colab": {}
      },
      "cell_type": "code",
      "source": [
        "def createEmptyGridTableWkt(tableName):\n",
        "  curR.execute(\"drop table if exists {}_wkt\".format(tableName))\n",
        "  curR.execute(\"\"\"create table {}_wkt (\n",
        "                   parent    text  not null                        ,               \n",
        "                   id        text  not null unique                 ,\n",
        "                   x         float not null                        ,\n",
        "                   y         float not null                        ,\n",
        "                   wkt       text  not null unique                 )\n",
        "               \"\"\".format(tableName))\n",
        "  connR.commit()"
      ],
      "execution_count": 0,
      "outputs": []
    },
    {
      "metadata": {
        "id": "h2bXP93nwTKi",
        "colab_type": "text"
      },
      "cell_type": "markdown",
      "source": [
        "## Function to transform a grid table with wkt field into grid table with geometry"
      ]
    },
    {
      "metadata": {
        "id": "-7zoS4pywfMo",
        "colab_type": "code",
        "colab": {}
      },
      "cell_type": "code",
      "source": [
        "def wkt2geometry(tableName):\n",
        "  curR.execute(\"drop table if exists {}\".format(tableName))\n",
        "  curR.execute(\"\"\"create table {0} as\n",
        "                  select parent, id, x, y, geomfromtext(wkt,3035) as geometry\n",
        "                  from {0}_wkt\n",
        "               \"\"\".format(tableName))\n",
        "  curR.execute(\"drop table {}_wkt\".format(tableName))\n",
        "  curR.execute(\"select recovergeometrycolumn('{}', 'geometry',3035,'POLYGON','XY')\".format(tableName))\n",
        "  curR.execute(\"select createSpatialIndex('{}', 'geometry')\".format(tableName))"
      ],
      "execution_count": 0,
      "outputs": []
    },
    {
      "metadata": {
        "id": "ZGjdSfSDqQbY",
        "colab_type": "text"
      },
      "cell_type": "markdown",
      "source": [
        "## T_shapes bounding bound"
      ]
    },
    {
      "metadata": {
        "id": "QQBYBaf5qQbZ",
        "colab_type": "code",
        "outputId": "df2df35d-2d57-41e0-a779-7102a75a2210",
        "colab": {
          "base_uri": "https://localhost:8080/",
          "height": 80
        }
      },
      "cell_type": "code",
      "source": [
        "df=pd.read_sql(\"select min(MbrMinX(geometry)),max(MbrMaxX(geometry)),min(MbrMinY(geometry)),max(MbrMaxY(geometry)) as wkt from T_shapes\",connR)\n",
        "df.head()"
      ],
      "execution_count": 0,
      "outputs": [
        {
          "output_type": "execute_result",
          "data": {
            "text/html": [
              "<div>\n",
              "<style scoped>\n",
              "    .dataframe tbody tr th:only-of-type {\n",
              "        vertical-align: middle;\n",
              "    }\n",
              "\n",
              "    .dataframe tbody tr th {\n",
              "        vertical-align: top;\n",
              "    }\n",
              "\n",
              "    .dataframe thead th {\n",
              "        text-align: right;\n",
              "    }\n",
              "</style>\n",
              "<table border=\"1\" class=\"dataframe\">\n",
              "  <thead>\n",
              "    <tr style=\"text-align: right;\">\n",
              "      <th></th>\n",
              "      <th>min(MbrMinX(geometry))</th>\n",
              "      <th>max(MbrMaxX(geometry))</th>\n",
              "      <th>min(MbrMinY(geometry))</th>\n",
              "      <th>wkt</th>\n",
              "    </tr>\n",
              "  </thead>\n",
              "  <tbody>\n",
              "    <tr>\n",
              "      <th>0</th>\n",
              "      <td>3.799745e+06</td>\n",
              "      <td>4.065361e+06</td>\n",
              "      <td>2.941666e+06</td>\n",
              "      <td>3.167920e+06</td>\n",
              "    </tr>\n",
              "  </tbody>\n",
              "</table>\n",
              "</div>"
            ],
            "text/plain": [
              "   min(MbrMinX(geometry))  max(MbrMaxX(geometry))  min(MbrMinY(geometry))  \\\n",
              "0            3.799745e+06            4.065361e+06            2.941666e+06   \n",
              "\n",
              "            wkt  \n",
              "0  3.167920e+06  "
            ]
          },
          "metadata": {
            "tags": []
          },
          "execution_count": 41
        }
      ]
    },
    {
      "metadata": {
        "id": "bfYTlkpPqQbu",
        "colab_type": "text"
      },
      "cell_type": "markdown",
      "source": [
        "## Function to create and populate the 1024m grid table. \n",
        "\n",
        "Cells not intersecting shapes are removed from the grid. The grid bbox is about the same as the T_shapes bbox."
      ]
    },
    {
      "metadata": {
        "id": "5utvUsfTqQbw",
        "colab_type": "code",
        "colab": {}
      },
      "cell_type": "code",
      "source": [
        "def createGrid(xMin,xMax,yMin,yMax):\n",
        "  '''Create grid with all cells intersecting shapes - this function can be executed one than once without any harm'''  \n",
        "  step=1024\n",
        "  myGrid=[] \n",
        "    \n",
        "  for x in range(xMin,xMax+2*step,step):\n",
        "    for y in range(yMin,yMax+2*step,step):\n",
        "      myGrid.append(  ( '{step}mN{y}E{x}'.format(x=x,y=y,step=step), x, y, cellWkt(x,y,step) ) )\n",
        "  \n",
        "  createEmptyGridTableWkt('T_grid')\n",
        "  \n",
        "  curR.executemany(\"insert into T_grid_wkt (parent,id,x,y,wkt) values ('top',?, ?, ?, ?)\",myGrid)\n",
        "\n",
        "  wkt2geometry('T_grid')\n",
        "\n",
        "    \n",
        "  curR.execute(''' create table T_intersectingGridCells as\n",
        "                   select a.id\n",
        "                   from T_grid a, T_shapes b\n",
        "                   where intersects(a.geometry,b.geometry) \n",
        "                    and a.rowid in ( \n",
        "                                     select rowid \n",
        "                                     from spatialIndex\n",
        "                                     where f_table_name='T_grid' and search_frame=b.geometry\n",
        "                                    ) ''')\n",
        "  \n",
        "  curR.execute(\"delete from T_grid where id not in (select distinct id from T_intersectingGridCells)\")\n",
        "  curR.execute(\"drop table T_intersectingGridCells\")\n",
        "\n",
        "\n",
        "  connR.commit()"
      ],
      "execution_count": 0,
      "outputs": []
    },
    {
      "metadata": {
        "id": "P5AMB7BJqQb0",
        "colab_type": "code",
        "colab": {}
      },
      "cell_type": "code",
      "source": [
        "createGrid(3710*1024,3970*1024,2872*1024,3093*1024)"
      ],
      "execution_count": 0,
      "outputs": []
    },
    {
      "metadata": {
        "colab_type": "text",
        "id": "KM6ZerEfSiwW"
      },
      "cell_type": "markdown",
      "source": [
        "# Find cells within Shapes\n"
      ]
    },
    {
      "metadata": {
        "id": "5GmHgo9Eu9Y6",
        "colab_type": "text"
      },
      "cell_type": "markdown",
      "source": [
        "## Usefull functions"
      ]
    },
    {
      "metadata": {
        "id": "ZbKPs47ZvP_m",
        "colab_type": "text"
      },
      "cell_type": "markdown",
      "source": [
        "### Test for existence of a table in sqlite database"
      ]
    },
    {
      "metadata": {
        "id": "OyhKLuk-qQb7",
        "colab_type": "code",
        "outputId": "557c6e27-b406-42d5-9813-1aa62ddd7d2f",
        "colab": {
          "base_uri": "https://localhost:8080/",
          "height": 51
        }
      },
      "cell_type": "code",
      "source": [
        "def tableExists(tableName):\n",
        "    return not pd.read_sql(\"select * from sqlite_master where type = 'table' and name like '{}'\".format(tableName),connR).empty\n",
        "\n",
        "print(tableExists('T_grid'))\n",
        "print(tableExists('T_1024m_cells_with_shapes_overlaps'))"
      ],
      "execution_count": 0,
      "outputs": [
        {
          "output_type": "stream",
          "text": [
            "True\n",
            "False\n"
          ],
          "name": "stdout"
        }
      ]
    },
    {
      "metadata": {
        "id": "98mu4Tg8vWXk",
        "colab_type": "text"
      },
      "cell_type": "markdown",
      "source": [
        "### Get list of table in sqlite database"
      ]
    },
    {
      "metadata": {
        "id": "LDeQavcsvME0",
        "colab_type": "code",
        "outputId": "f07065d7-8b20-42dd-acce-9ae7aaf0ed0d",
        "colab": {
          "base_uri": "https://localhost:8080/",
          "height": 111
        }
      },
      "cell_type": "code",
      "source": [
        "def tablesList():\n",
        "    return pd.read_sql(\"select tbl_name from sqlite_master where type = 'table' and name like 'T_%'\",connR)\n",
        "\n",
        "tablesList()"
      ],
      "execution_count": 0,
      "outputs": [
        {
          "output_type": "execute_result",
          "data": {
            "text/html": [
              "<div>\n",
              "<style scoped>\n",
              "    .dataframe tbody tr th:only-of-type {\n",
              "        vertical-align: middle;\n",
              "    }\n",
              "\n",
              "    .dataframe tbody tr th {\n",
              "        vertical-align: top;\n",
              "    }\n",
              "\n",
              "    .dataframe thead th {\n",
              "        text-align: right;\n",
              "    }\n",
              "</style>\n",
              "<table border=\"1\" class=\"dataframe\">\n",
              "  <thead>\n",
              "    <tr style=\"text-align: right;\">\n",
              "      <th></th>\n",
              "      <th>tbl_name</th>\n",
              "    </tr>\n",
              "  </thead>\n",
              "  <tbody>\n",
              "    <tr>\n",
              "      <th>0</th>\n",
              "      <td>T_shapes</td>\n",
              "    </tr>\n",
              "    <tr>\n",
              "      <th>1</th>\n",
              "      <td>T_grid</td>\n",
              "    </tr>\n",
              "  </tbody>\n",
              "</table>\n",
              "</div>"
            ],
            "text/plain": [
              "   tbl_name\n",
              "0  T_shapes\n",
              "1    T_grid"
            ]
          },
          "metadata": {
            "tags": []
          },
          "execution_count": 45
        }
      ]
    },
    {
      "metadata": {
        "id": "gtyhB5SCviQC",
        "colab_type": "text"
      },
      "cell_type": "markdown",
      "source": [
        "### Split a cell"
      ]
    },
    {
      "metadata": {
        "colab_type": "code",
        "id": "rEzVQ-yr72ES",
        "outputId": "4aa99b6f-da7d-41e0-b960-89cf99dd9469",
        "colab": {
          "base_uri": "https://localhost:8080/",
          "height": 357
        }
      },
      "cell_type": "code",
      "source": [
        "def splitACell(cellLength=None,xParent=None,yParent=None,idParent=None,divideBy=2):\n",
        "  \n",
        "  if cellLength % divideBy != 0:\n",
        "        print(\"ERROR: cellLength={} and is not a multiple of divideBy={}\".format(cellLength,divideBy))\n",
        "        return\n",
        "    \n",
        "  step=int(cellLength/divideBy)\n",
        "\n",
        "  myCells=[]\n",
        "  \n",
        "  for i in range(divideBy):    \n",
        "    for j in range(divideBy):         \n",
        "      xCell , yCell = int(xParent+i*step) , int(yParent+j*step) \n",
        "      myCells.append((idParent, '{}mN{}E{}'.format(step,yCell,xCell) ,xCell, yCell, cellWkt(xCell,yCell,step)))     \n",
        "\n",
        "  return myCells\n",
        "\n",
        "splitACell(cellLength=10,xParent=380,yParent=370,idParent='10mN370E380',divideBy=2)\n"
      ],
      "execution_count": 0,
      "outputs": [
        {
          "output_type": "execute_result",
          "data": {
            "text/plain": [
              "[('10mN370E380',\n",
              "  '5mN370E380',\n",
              "  380,\n",
              "  370,\n",
              "  'POLYGON((380 370,385 370,385 375,380 375,380 370))'),\n",
              " ('10mN370E380',\n",
              "  '5mN375E380',\n",
              "  380,\n",
              "  375,\n",
              "  'POLYGON((380 375,385 375,385 380,380 380,380 375))'),\n",
              " ('10mN370E380',\n",
              "  '5mN370E385',\n",
              "  385,\n",
              "  370,\n",
              "  'POLYGON((385 370,390 370,390 375,385 375,385 370))'),\n",
              " ('10mN370E380',\n",
              "  '5mN375E385',\n",
              "  385,\n",
              "  375,\n",
              "  'POLYGON((385 375,390 375,390 380,385 380,385 375))')]"
            ]
          },
          "metadata": {
            "tags": []
          },
          "execution_count": 46
        }
      ]
    },
    {
      "metadata": {
        "id": "7m9FxMDIvuNd",
        "colab_type": "text"
      },
      "cell_type": "markdown",
      "source": [
        "## Create a table containing cells that are *within* a shape"
      ]
    },
    {
      "metadata": {
        "colab_type": "code",
        "id": "G2OQTcJlczDr",
        "colab": {}
      },
      "cell_type": "code",
      "source": [
        "def cellsWithinShape(precision):\n",
        "  \"\"\"This function finds cells that are completely within a shape\"\"\"\n",
        "\n",
        "  inputTable='T_{}m_cells_with_shapes_overlaps'.format(precision*2)\n",
        "  cellsWithinShapes='T_{}m_cells_within_shapes'.format(precision)\n",
        "\n",
        "  if not tableExists(inputTable):\n",
        "        inputTable='T_grid'\n",
        "\n",
        "  curR.execute(\"drop table if exists {}\".format(cellsWithinShapes))\n",
        "  curR.execute('''create table {cellsWithinShapes} as\n",
        "                  select a.id, b.id_shape\n",
        "                  from {cellsWithShapesOverlaps} a, T_shapes b\n",
        "                  where within(a.geometry,b.geometry) \n",
        "                    and a.rowid in ( \n",
        "                                     select rowid \n",
        "                                     from spatialIndex\n",
        "                                     where f_table_name='{cellsWithShapesOverlaps}' and search_frame=b.geometry\n",
        "                                    ) '''.format(cellsWithShapesOverlaps=inputTable,cellsWithinShapes=cellsWithinShapes))\n",
        "  connR.commit()\n",
        "  \n",
        "  return pd.read_sql('select * from {} limit 2'.format(cellsWithinShapes),connR)"
      ],
      "execution_count": 0,
      "outputs": []
    },
    {
      "metadata": {
        "id": "7oqnjXedv0_v",
        "colab_type": "text"
      },
      "cell_type": "markdown",
      "source": [
        "## Split cells that overlap a shape"
      ]
    },
    {
      "metadata": {
        "colab_type": "code",
        "id": "CPgqyWo3Siom",
        "colab": {}
      },
      "cell_type": "code",
      "source": [
        "def splitCellsWithShapesOverlaps(precision,divideBy=2):\n",
        "    \n",
        "  if precision % divideBy != 0:\n",
        "    print(\"ERROR: precision={} and is not a multiple of divideBy={}\".format(precision,divideBy))\n",
        "    return\n",
        "\n",
        "  inputTable                     ='T_{}m_cells_with_shapes_overlaps'.format(precision*2)\n",
        "\n",
        "  if not tableExists(inputTable):\n",
        "        inputTable='T_grid'\n",
        "\n",
        "  cellsWithinShapes              ='T_{}m_cells_within_shapes'.format(precision)\n",
        "  cellsWithShapesOverlaps        ='T_{}m_cells_with_shapes_overlaps'.format(precision)\n",
        "\n",
        "  cellsWithShapesOverlapsDf=pd.read_sql(\"\"\"select id,x,y\n",
        "                                           from {} \n",
        "                                           where id not in ( select distinct id from {})\"\"\".format(inputTable,cellsWithinShapes),connR)\n",
        "\n",
        "  createEmptyGridTableWkt(cellsWithShapesOverlaps)\n",
        "\n",
        "  myInserts=[]\n",
        "  nrec=0\n",
        "\n",
        "  # Fix: insert only 100.000 records a time in cellsWithShapesOverlaps to avoid memory being exhausted\n",
        "  for id,x,y in cellsWithShapesOverlapsDf.itertuples(index=False):\n",
        "    myInserts.extend(splitACell(cellLength=precision,xParent=x,yParent=y,idParent=id,divideBy=divideBy))\n",
        "    nrec+=1\n",
        "    if nrec>100000:\n",
        "        curR.executemany(\"insert into {}_wkt (parent,id,x,y,wkt) values (?, ?, ?, ?, ?)\".format(cellsWithShapesOverlaps),myInserts)\n",
        "        connR.commit()\n",
        "        nrec=0\n",
        "        myInserts=[]\n",
        "    \n",
        "    \n",
        "  curR.executemany(\"insert into {}_wkt (parent,id,x,y,wkt) values (?, ?, ?, ?, ?)\".format(cellsWithShapesOverlaps),myInserts)\n",
        "  connR.commit()\n",
        "  \n",
        "  wkt2geometry(cellsWithShapesOverlaps)\n",
        "\n",
        "  return pd.read_sql('select parent, id, x, y from {} limit 2'.format(cellsWithShapesOverlaps),connR)"
      ],
      "execution_count": 0,
      "outputs": []
    },
    {
      "metadata": {
        "id": "4EfHrPkHwKO6",
        "colab_type": "text"
      },
      "cell_type": "markdown",
      "source": [
        "## Identify cells that are within shape and split cells that overlap in order to make them fall within shape"
      ]
    },
    {
      "metadata": {
        "colab_type": "code",
        "id": "a80xYrRYKJ0B",
        "outputId": "057a46a5-b285-4b80-cd3d-7aa6acf56b33",
        "colab": {
          "base_uri": "https://localhost:8080/",
          "height": 111
        }
      },
      "cell_type": "code",
      "source": [
        "cellsWithinShape(1024)"
      ],
      "execution_count": 0,
      "outputs": [
        {
          "output_type": "execute_result",
          "data": {
            "text/html": [
              "<div>\n",
              "<style scoped>\n",
              "    .dataframe tbody tr th:only-of-type {\n",
              "        vertical-align: middle;\n",
              "    }\n",
              "\n",
              "    .dataframe tbody tr th {\n",
              "        vertical-align: top;\n",
              "    }\n",
              "\n",
              "    .dataframe thead th {\n",
              "        text-align: right;\n",
              "    }\n",
              "</style>\n",
              "<table border=\"1\" class=\"dataframe\">\n",
              "  <thead>\n",
              "    <tr style=\"text-align: right;\">\n",
              "      <th></th>\n",
              "      <th>id</th>\n",
              "      <th>id_shape</th>\n",
              "    </tr>\n",
              "  </thead>\n",
              "  <tbody>\n",
              "    <tr>\n",
              "      <th>0</th>\n",
              "      <td>1024mN3141632E3930112</td>\n",
              "      <td>11002K171</td>\n",
              "    </tr>\n",
              "    <tr>\n",
              "      <th>1</th>\n",
              "      <td>1024mN3142656E3924992</td>\n",
              "      <td>11002K172</td>\n",
              "    </tr>\n",
              "  </tbody>\n",
              "</table>\n",
              "</div>"
            ],
            "text/plain": [
              "                      id   id_shape\n",
              "0  1024mN3141632E3930112  11002K171\n",
              "1  1024mN3142656E3924992  11002K172"
            ]
          },
          "metadata": {
            "tags": []
          },
          "execution_count": 49
        }
      ]
    },
    {
      "metadata": {
        "id": "9yux2MpwqtNr",
        "colab_type": "code",
        "outputId": "60966536-e2e7-48cc-ff2e-44f58e1f21e1",
        "colab": {
          "base_uri": "https://localhost:8080/",
          "height": 111
        }
      },
      "cell_type": "code",
      "source": [
        "splitCellsWithShapesOverlaps(1024)"
      ],
      "execution_count": 0,
      "outputs": [
        {
          "output_type": "execute_result",
          "data": {
            "text/html": [
              "<div>\n",
              "<style scoped>\n",
              "    .dataframe tbody tr th:only-of-type {\n",
              "        vertical-align: middle;\n",
              "    }\n",
              "\n",
              "    .dataframe tbody tr th {\n",
              "        vertical-align: top;\n",
              "    }\n",
              "\n",
              "    .dataframe thead th {\n",
              "        text-align: right;\n",
              "    }\n",
              "</style>\n",
              "<table border=\"1\" class=\"dataframe\">\n",
              "  <thead>\n",
              "    <tr style=\"text-align: right;\">\n",
              "      <th></th>\n",
              "      <th>parent</th>\n",
              "      <th>id</th>\n",
              "      <th>x</th>\n",
              "      <th>y</th>\n",
              "    </tr>\n",
              "  </thead>\n",
              "  <tbody>\n",
              "    <tr>\n",
              "      <th>0</th>\n",
              "      <td>1024mN3133440E3799040</td>\n",
              "      <td>512mN3133440E3799040</td>\n",
              "      <td>3799040.0</td>\n",
              "      <td>3133440.0</td>\n",
              "    </tr>\n",
              "    <tr>\n",
              "      <th>1</th>\n",
              "      <td>1024mN3133440E3799040</td>\n",
              "      <td>512mN3133952E3799040</td>\n",
              "      <td>3799040.0</td>\n",
              "      <td>3133952.0</td>\n",
              "    </tr>\n",
              "  </tbody>\n",
              "</table>\n",
              "</div>"
            ],
            "text/plain": [
              "                  parent                    id          x          y\n",
              "0  1024mN3133440E3799040  512mN3133440E3799040  3799040.0  3133440.0\n",
              "1  1024mN3133440E3799040  512mN3133952E3799040  3799040.0  3133952.0"
            ]
          },
          "metadata": {
            "tags": []
          },
          "execution_count": 50
        }
      ]
    },
    {
      "metadata": {
        "colab_type": "code",
        "id": "hv-gzdoHY8V6",
        "outputId": "551172d3-1220-466b-e9f5-1a1057ce75da",
        "colab": {
          "base_uri": "https://localhost:8080/",
          "height": 54
        }
      },
      "cell_type": "code",
      "source": [
        "cellsWithinShape(512)\n",
        "splitCellsWithShapesOverlaps(512)\n",
        "\n",
        "cellsWithinShape(256)\n",
        "\n",
        "\"\"\"\n",
        "splitCellsWithShapesOverlaps(256)\n",
        "\n",
        "cellsWithinShape(128)\n",
        "splitCellsWithShapesOverlaps(128)\n",
        "\n",
        "cellsWithinShape(64)\n",
        "splitCellsWithShapesOverlaps(64)\n",
        "\n",
        "cellsWithinShape(32)\n",
        "splitCellsWithShapesOverlaps(32)\n",
        "\n",
        "cellsWithinShape(16)\n",
        "splitCellsWithShapesOverlaps(16)\n",
        "\n",
        "cellsWithinShape(8)\n",
        "\"\"\""
      ],
      "execution_count": 0,
      "outputs": [
        {
          "output_type": "execute_result",
          "data": {
            "text/plain": [
              "'\\nsplitCellsWithShapesOverlaps(256)\\n\\ncellsWithinShape(128)\\nsplitCellsWithShapesOverlaps(128)\\n\\ncellsWithinShape(64)\\nsplitCellsWithShapesOverlaps(64)\\n\\ncellsWithinShape(32)\\nsplitCellsWithShapesOverlaps(32)\\n\\ncellsWithinShape(16)\\nsplitCellsWithShapesOverlaps(16)\\n\\ncellsWithinShape(8)\\n'"
            ]
          },
          "metadata": {
            "tags": []
          },
          "execution_count": 51
        }
      ]
    },
    {
      "metadata": {
        "colab_type": "text",
        "id": "Lem4ffONuRWB"
      },
      "cell_type": "markdown",
      "source": [
        "# Export results"
      ]
    },
    {
      "metadata": {
        "colab_type": "code",
        "id": "bc1-JkeQuTcO",
        "colab": {}
      },
      "cell_type": "code",
      "source": [
        "from google.colab import files\n",
        "\n",
        "def exportTable(precision):\n",
        "  pd.read_sql(\"select * from T_{}m_cells_within_shapes\".format(precision),connR).to_csv('T_{}m_cells_within_shapes.csv'.format(precision),sep='|',index=False)\n",
        "  \n",
        "  "
      ],
      "execution_count": 0,
      "outputs": []
    },
    {
      "metadata": {
        "colab_type": "code",
        "id": "g1YRPWl2vzrg",
        "colab": {}
      },
      "cell_type": "code",
      "source": [
        "exportTable(1024)\n",
        "exportTable(512)\n",
        "exportTable(256)\n",
        "#exportTable(128)\n",
        "#exportTable(64)\n",
        "#exportTable(32)\n",
        "#exportTable(16)\n",
        "#exportTable(8)"
      ],
      "execution_count": 0,
      "outputs": []
    },
    {
      "metadata": {
        "id": "k6ft1IrzsK_O",
        "colab_type": "code",
        "outputId": "793547fc-f9e6-471e-8eba-01567cee941a",
        "colab": {
          "base_uri": "https://localhost:8080/",
          "height": 68
        }
      },
      "cell_type": "code",
      "source": [
        "!zip T_cells_within_shapes.zip T_*_cells_within_shapes.csv"
      ],
      "execution_count": 0,
      "outputs": [
        {
          "output_type": "stream",
          "text": [
            "updating: T_1024m_cells_within_shapes.csv (deflated 80%)\n",
            "updating: T_256m_cells_within_shapes.csv (deflated 86%)\n",
            "updating: T_512m_cells_within_shapes.csv (deflated 84%)\n"
          ],
          "name": "stdout"
        }
      ]
    },
    {
      "metadata": {
        "id": "8mz5nWD8s25c",
        "colab_type": "code",
        "colab": {}
      },
      "cell_type": "code",
      "source": [
        "!rm T_*_cells_within_shapes.csv"
      ],
      "execution_count": 0,
      "outputs": []
    },
    {
      "metadata": {
        "colab_type": "code",
        "id": "hbfBqIHqvnl5",
        "colab": {}
      },
      "cell_type": "code",
      "source": [
        "from google.colab import files\n",
        "\n",
        "files.download('T_cells_within_shapes.zip')"
      ],
      "execution_count": 0,
      "outputs": []
    }
  ]
}