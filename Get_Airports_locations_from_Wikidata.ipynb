{
  "nbformat": 4,
  "nbformat_minor": 0,
  "metadata": {
    "colab": {
      "name": "Get Airports locations from Wikidata.ipynb",
      "version": "0.3.2",
      "provenance": [],
      "collapsed_sections": [],
      "toc_visible": true,
      "include_colab_link": true
    },
    "kernelspec": {
      "display_name": "Python 3",
      "language": "python",
      "name": "python3"
    }
  },
  "cells": [
    {
      "cell_type": "markdown",
      "metadata": {
        "id": "view-in-github",
        "colab_type": "text"
      },
      "source": [
        "<a href=\"https://colab.research.google.com/github/yoba7/WikidataExampleOfUse/blob/master/Get_Airports_locations_from_Wikidata.ipynb\" target=\"_parent\"><img src=\"https://colab.research.google.com/assets/colab-badge.svg\" alt=\"Open In Colab\"/></a>"
      ]
    },
    {
      "metadata": {
        "id": "O9ZbP4p5qc6w",
        "colab_type": "text"
      },
      "cell_type": "markdown",
      "source": [
        "# Get airports locations from Wikidata\n",
        "\n",
        "This code will extract airports locations from [Wikidata](https://www.wikidata.org/).\n",
        "\n",
        "This code can be executed directly in [Google colab](https://github.com/googlecolab/colabtools) using Chrome and its oppropriate [extension](https://github.com/googlecolab/open_in_colab). \n",
        "\n",
        "Keywords: Airports, IATA, ICAO, Latitude, Longitude, Coordinates, GeoDataFrame, Geopandas, GeoJSON, SPARQL, Wikidata, Linked Open Data, URIs, Google Colab, GIS\n",
        "\n",
        "Author: Youri Baeyens\n",
        "\n"
      ]
    },
    {
      "metadata": {
        "id": "1MgglmFwS3VC",
        "colab_type": "code",
        "colab": {}
      },
      "cell_type": "code",
      "source": [
        "# This step installs missing packages - Can last a bit\n",
        "\n",
        "%%capture\n",
        "\n",
        "!pip install SPARQLWrapper\n",
        "!pip install geopandas\n",
        "!pip install folium"
      ],
      "execution_count": 0,
      "outputs": []
    },
    {
      "metadata": {
        "id": "5gMwDYOfSpx_",
        "colab_type": "code",
        "colab": {}
      },
      "cell_type": "code",
      "source": [
        "import pandas as pd\n",
        "import json\n",
        "from SPARQLWrapper import SPARQLWrapper, JSON\n",
        "from geopandas import GeoDataFrame\n",
        "from shapely.geometry import Point\n",
        "from shapely.wkt import loads"
      ],
      "execution_count": 0,
      "outputs": []
    },
    {
      "metadata": {
        "id": "FwrHOM1yqI59",
        "colab_type": "text"
      },
      "cell_type": "markdown",
      "source": [
        "## Part 1 - Extract information from Wikidata"
      ]
    },
    {
      "metadata": {
        "id": "yIfkI3Br6u6G",
        "colab_type": "text"
      },
      "cell_type": "markdown",
      "source": [
        "\n",
        "### Background information\n",
        "\n",
        "#### Wikidata\n",
        "\n",
        "*\"[Wikidata](https://www.wikidata.org/wiki/Wikidata:Main_Page) is a free and open knowledge base that can be read and edited by both humans and machines.\"*\n",
        "\n",
        "*\"Wikidata acts as central storage for the structured data of its Wikimedia sister projects including Wikipedia, Wikivoyage, Wikisource, and others.\"\" *\n",
        "\n",
        "#### Wikidata query service: the SPARQL endpoint of Wikidata\n",
        "\n",
        "It is possible to query Wikidata data through the [Wikidata Query Service (WQS)](https://query.wikidata.org/). The query language used by WQS is [SPARQL](https://en.wikipedia.org/wiki/SPARQL).\n",
        "\n",
        "Here is [an exemple of SPARQL query](http://tinyurl.com/y6zdf4zn) to get info on Belgian airports. You can view it as as map, if you prefer, with [this query](http://tinyurl.com/y6fxydeg).\n",
        "\n",
        "\n",
        "#### SPARQL: General introduction\n",
        "\n",
        "If you want to have a first introduction on SPARQL, take a look at this video (11 mintues):\n",
        "\n",
        "<a href=\"http://www.youtube.com/watch?feature=player_embedded&v=FvGndkpa4K0\n",
        "\" target=\"_blank\"><img src=\"http://img.youtube.com/vi/FvGndkpa4K0/0.jpg\" \n",
        "alt=\"SPARQL in 11 minutes\" width=\"240\" height=\"180\" border=\"2\" /></a>\n",
        "\n",
        "\n",
        "#### Wikidata SPARQL query tutorial\n",
        "\n",
        "If you want to have a good introduction on Wikidata Query Service, take a look at this video (16 minutes): \n",
        "\n",
        "<a href=\"http://www.youtube.com/watch?feature=player_embedded&v=1jHoUkj_mKw\n",
        "\" target=\"_blank\"><img src=\"http://img.youtube.com/vi/1jHoUkj_mKw/0.jpg\" \n",
        "alt=\"Wikidata SPARQL query tutorial\" width=\"240\" height=\"180\" border=\"2\" /></a>"
      ]
    },
    {
      "metadata": {
        "id": "9nSGRiwJ9RLc",
        "colab_type": "text"
      },
      "cell_type": "markdown",
      "source": [
        "### Function to submit a SPARQL query\n",
        "\n",
        "Function signature: *get_sparql_dataframe(service:str, query:str) -> pd.Dataframe*\n",
        "\n",
        "This function has been created by Ted Lawless. It is available on [GitHub](https://lawlesst.github.io/notebook/sparql-dataframe.html). This function runs a [SPARQL query](https://fr.wikipedia.org/wiki/SPARQL) on a SPARQL endpoint.\n",
        "\n",
        "Arguments:\n",
        "- service: SPARQL endpoint URL\n",
        "- query: SPARQL query text\n",
        "\n",
        "Returns: a [pandas](https://pandas.pydata.org/) dataframe containing the results of the query.\n"
      ]
    },
    {
      "metadata": {
        "id": "kM0lwAINSpyM",
        "colab_type": "code",
        "colab": {}
      },
      "cell_type": "code",
      "source": [
        "def get_sparql_dataframe(service, query):\n",
        "    \"\"\"\n",
        "    Helper function to convert SPARQL results into a Pandas data frame.\n",
        "    \"\"\"\n",
        "    sparql = SPARQLWrapper(service)\n",
        "    sparql.setQuery(query)\n",
        "    sparql.setReturnFormat(JSON)\n",
        "    result = sparql.query()\n",
        "\n",
        "    processed_results = json.load(result.response)\n",
        "    cols = processed_results['head']['vars']\n",
        "\n",
        "    out = []\n",
        "    for row in processed_results['results']['bindings']:\n",
        "        item = []\n",
        "        for c in cols:\n",
        "            item.append(row.get(c, {}).get('value'))\n",
        "        out.append(item)\n",
        "\n",
        "    return pd.DataFrame(out, columns=cols)"
      ],
      "execution_count": 0,
      "outputs": []
    },
    {
      "metadata": {
        "id": "_SxSkYj3GhS0",
        "colab_type": "text"
      },
      "cell_type": "markdown",
      "source": [
        "### Submit SPARQL Query to get Belgian airports\n",
        "\n",
        "Here is the SPARQL used to get coordinates (longitude, latitude) of all Belgian airports known to Wikidata, along with [IATA codes](https://en.wikipedia.org/wiki/IATA_airport_code), [ICAO codes](https://en.wikipedia.org/wiki/ICAO_airport_code) and [geonames](https://en.wikipedia.org/wiki/GeoNames) ids\n",
        "\n",
        "Coordinates are expressed in \"well known text\" [wkt](https://en.wikipedia.org/wiki/Well-known_text) form."
      ]
    },
    {
      "metadata": {
        "id": "v9QbPqrrSpyZ",
        "colab_type": "code",
        "outputId": "023f457b-a12b-4858-f073-d2f06f687d56",
        "colab": {
          "base_uri": "https://localhost:8080/",
          "height": 206
        }
      },
      "cell_type": "code",
      "source": [
        "# Web address of the SPARQL endpoint\n",
        "\n",
        "wds = \"https://query.wikidata.org/sparql\"\n",
        "\n",
        "# The query\n",
        "\n",
        "query=\"\"\"\n",
        "SELECT DISTINCT ?airport ?airportLabel ?coor ?geonamesId ?IATA ?ICAO\n",
        "WHERE {\n",
        "       # ?airport must be an instance (wdt:P31) or a sub-class (wdt:P279) or airport (wd:Q1248784)\n",
        "       # Example of sub-classes of airport:\n",
        "       #   -  international airport (Q644371) \n",
        "       #   -  commercial airport (Q20977786) \n",
        "       ?airport wdt:P31/wdt:P279* wd:Q1248784.\n",
        "  \n",
        "       # ?airport must be in Belgium (wd:Q31).\n",
        "       # remove the following line if you want all airports\n",
        "       ?airport ?range            wd:Q31.\n",
        "  \n",
        "       # ?airport coordinates location (wdt:P625) as stored in ?coor.\n",
        "       ?airport wdt:P625          ?coor.\n",
        "  \n",
        "  SERVICE wikibase:label { bd:serviceParam wikibase:language \"[AUTO_LANGUAGE],en\". }\n",
        "  optional { ?airport wdt:P1566 ?geonamesId}\n",
        "  optional { ?airport wdt:P238  ?IATA}\n",
        "  optional { ?airport wdt:P239  ?ICAO}\n",
        "}\n",
        "\"\"\"\n",
        "\n",
        "# Run the query\n",
        "\n",
        "df = get_sparql_dataframe(wds, query)\n",
        "\n",
        "# Data quality: Only consider coor that are real Point objects.\n",
        "\n",
        "df=df[df['coor'].str.contains('Point')]\n",
        "\n",
        "# Inspect DataFrame\n",
        "# coor is a column containing WKT of locations\n",
        "\n",
        "df.head()"
      ],
      "execution_count": 10,
      "outputs": [
        {
          "output_type": "execute_result",
          "data": {
            "text/html": [
              "<div>\n",
              "<style scoped>\n",
              "    .dataframe tbody tr th:only-of-type {\n",
              "        vertical-align: middle;\n",
              "    }\n",
              "\n",
              "    .dataframe tbody tr th {\n",
              "        vertical-align: top;\n",
              "    }\n",
              "\n",
              "    .dataframe thead th {\n",
              "        text-align: right;\n",
              "    }\n",
              "</style>\n",
              "<table border=\"1\" class=\"dataframe\">\n",
              "  <thead>\n",
              "    <tr style=\"text-align: right;\">\n",
              "      <th></th>\n",
              "      <th>airport</th>\n",
              "      <th>airportLabel</th>\n",
              "      <th>coor</th>\n",
              "      <th>geonamesId</th>\n",
              "      <th>IATA</th>\n",
              "      <th>ICAO</th>\n",
              "    </tr>\n",
              "  </thead>\n",
              "  <tbody>\n",
              "    <tr>\n",
              "      <th>0</th>\n",
              "      <td>http://www.wikidata.org/entity/Q2875612</td>\n",
              "      <td>Saint-Hubert Airport</td>\n",
              "      <td>Point(5.40417 50.0358)</td>\n",
              "      <td>None</td>\n",
              "      <td>None</td>\n",
              "      <td>EBSH</td>\n",
              "    </tr>\n",
              "    <tr>\n",
              "      <th>1</th>\n",
              "      <td>http://www.wikidata.org/entity/Q16894473</td>\n",
              "      <td>Maillen Airport</td>\n",
              "      <td>Point(4.9265 50.375)</td>\n",
              "      <td>None</td>\n",
              "      <td>None</td>\n",
              "      <td>EBML</td>\n",
              "    </tr>\n",
              "    <tr>\n",
              "      <th>2</th>\n",
              "      <td>http://www.wikidata.org/entity/Q16890695</td>\n",
              "      <td>Couthuin Airport</td>\n",
              "      <td>Point(5.10719 50.5378)</td>\n",
              "      <td>9035031</td>\n",
              "      <td>None</td>\n",
              "      <td>EBHE</td>\n",
              "    </tr>\n",
              "    <tr>\n",
              "      <th>3</th>\n",
              "      <td>http://www.wikidata.org/entity/Q2875370</td>\n",
              "      <td>Amougies Airfield</td>\n",
              "      <td>Point(3.48494 50.7401)</td>\n",
              "      <td>None</td>\n",
              "      <td>None</td>\n",
              "      <td>EBAM</td>\n",
              "    </tr>\n",
              "    <tr>\n",
              "      <th>4</th>\n",
              "      <td>http://www.wikidata.org/entity/Q2930455</td>\n",
              "      <td>Ursel Airbase</td>\n",
              "      <td>Point(3.475555 51.144167)</td>\n",
              "      <td>None</td>\n",
              "      <td>None</td>\n",
              "      <td>EBUL</td>\n",
              "    </tr>\n",
              "  </tbody>\n",
              "</table>\n",
              "</div>"
            ],
            "text/plain": [
              "                                    airport          airportLabel  \\\n",
              "0   http://www.wikidata.org/entity/Q2875612  Saint-Hubert Airport   \n",
              "1  http://www.wikidata.org/entity/Q16894473       Maillen Airport   \n",
              "2  http://www.wikidata.org/entity/Q16890695      Couthuin Airport   \n",
              "3   http://www.wikidata.org/entity/Q2875370     Amougies Airfield   \n",
              "4   http://www.wikidata.org/entity/Q2930455         Ursel Airbase   \n",
              "\n",
              "                        coor geonamesId  IATA  ICAO  \n",
              "0     Point(5.40417 50.0358)       None  None  EBSH  \n",
              "1       Point(4.9265 50.375)       None  None  EBML  \n",
              "2     Point(5.10719 50.5378)    9035031  None  EBHE  \n",
              "3     Point(3.48494 50.7401)       None  None  EBAM  \n",
              "4  Point(3.475555 51.144167)       None  None  EBUL  "
            ]
          },
          "metadata": {
            "tags": []
          },
          "execution_count": 10
        }
      ]
    },
    {
      "metadata": {
        "id": "j_bo6_GPqcMQ",
        "colab_type": "text"
      },
      "cell_type": "markdown",
      "source": [
        "## Part 2 - GIS"
      ]
    },
    {
      "metadata": {
        "id": "c3iqQouSG55S",
        "colab_type": "text"
      },
      "cell_type": "markdown",
      "source": [
        "### Transform our DataFrame into a GeoDataFrame\n",
        "\n",
        "[Geopandas](http://geopandas.org/) adds GIS functionalities to [Pandas](https://pandas.pydata.org/)."
      ]
    },
    {
      "metadata": {
        "id": "H585tsrXSpy6",
        "colab_type": "code",
        "colab": {}
      },
      "cell_type": "code",
      "source": [
        "# loads is used to transform WKT to Shapely points\n",
        "crs = {'init': 'epsg:4326'}\n",
        "gdf = GeoDataFrame(df, crs=crs, geometry=df['coor'].apply(loads))"
      ],
      "execution_count": 0,
      "outputs": []
    },
    {
      "metadata": {
        "id": "PEY4r_Sarsaz",
        "colab_type": "text"
      },
      "cell_type": "markdown",
      "source": [
        "### Build a map with folium"
      ]
    },
    {
      "metadata": {
        "id": "6AxMhQ2w1aO2",
        "colab_type": "code",
        "outputId": "3fcd2215-ef19-4745-ac42-f58e86f13200",
        "colab": {
          "base_uri": "https://localhost:8080/",
          "height": 912
        }
      },
      "cell_type": "code",
      "source": [
        "import folium\n",
        "\n",
        "points = folium.features.GeoJson(gdf.to_json())\n",
        "\n",
        "mapa = folium.Map([50.46, 4.45],zoom_start=8,tiles='cartodbpositron')\n",
        "mapa.add_children(points)\n",
        "mapa\n",
        "\n",
        "\n"
      ],
      "execution_count": 13,
      "outputs": [
        {
          "output_type": "execute_result",
          "data": {
            "text/html": [
              "<div style=\"width:100%;\"><div style=\"position:relative;width:100%;height:0;padding-bottom:60%;\"><iframe src=\"data:text/html;base64,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\" style=\"position:absolute;width:100%;height:100%;left:0;top:0;\"></iframe></div></div>"
            ],
            "text/plain": [
              "<folium.folium.Map at 0x7fc74ee31048>"
            ]
          },
          "metadata": {
            "tags": []
          },
          "execution_count": 13
        }
      ]
    },
    {
      "metadata": {
        "id": "JvRuIsHNHCAP",
        "colab_type": "text"
      },
      "cell_type": "markdown",
      "source": [
        "### Function to generate URIs\n",
        "\n",
        "This function is used to transform geonamesId into URIs\n",
        "\n",
        "- Argument:  _geonames identifier_ \n",
        "- Returns: [URI](https://en.wikipedia.org/wiki/Uniform_Resource_Identifier). \n",
        "\n",
        "The geonames web server will redirect this URI to a web page that documents the concept. Brussels south airport, for exemple, is identified by this geonames URI: http://www.geonames.org/6296489. This URI is documented by this web page: http://www.geonames.org/6296489/brussels-south-charleroi-airport.html\n"
      ]
    },
    {
      "metadata": {
        "id": "6kNpnL40Spzd",
        "colab_type": "code",
        "outputId": "0ebd85fb-5f16-4c52-ed67-2a9c9aac0ced",
        "colab": {
          "base_uri": "https://localhost:8080/",
          "height": 34
        }
      },
      "cell_type": "code",
      "source": [
        "def geonamesLink(geonamesId):\n",
        "    if not pd.isna(geonamesId):\n",
        "        return('https://www.geonames.org/'+str(geonamesId))\n",
        "    else:\n",
        "        return(None)\n",
        "\n",
        "# Example of use      \n",
        "print(geonamesLink(6296489))"
      ],
      "execution_count": 14,
      "outputs": [
        {
          "output_type": "stream",
          "text": [
            "https://www.geonames.org/6296489\n"
          ],
          "name": "stdout"
        }
      ]
    },
    {
      "metadata": {
        "id": "_31WypLpSpzi",
        "colab_type": "code",
        "colab": {}
      },
      "cell_type": "code",
      "source": [
        "gdf['geonamesLink']=gdf['geonamesId'].apply(geonamesLink)"
      ],
      "execution_count": 0,
      "outputs": []
    },
    {
      "metadata": {
        "id": "GfbcZuYUSpzo",
        "colab_type": "code",
        "outputId": "50d91a9d-3c76-46da-cd7a-e7537957bc72",
        "colab": {
          "base_uri": "https://localhost:8080/",
          "height": 206
        }
      },
      "cell_type": "code",
      "source": [
        "gdf.head()"
      ],
      "execution_count": 16,
      "outputs": [
        {
          "output_type": "execute_result",
          "data": {
            "text/html": [
              "<div>\n",
              "<style scoped>\n",
              "    .dataframe tbody tr th:only-of-type {\n",
              "        vertical-align: middle;\n",
              "    }\n",
              "\n",
              "    .dataframe tbody tr th {\n",
              "        vertical-align: top;\n",
              "    }\n",
              "\n",
              "    .dataframe thead th {\n",
              "        text-align: right;\n",
              "    }\n",
              "</style>\n",
              "<table border=\"1\" class=\"dataframe\">\n",
              "  <thead>\n",
              "    <tr style=\"text-align: right;\">\n",
              "      <th></th>\n",
              "      <th>airport</th>\n",
              "      <th>airportLabel</th>\n",
              "      <th>coor</th>\n",
              "      <th>geonamesId</th>\n",
              "      <th>IATA</th>\n",
              "      <th>ICAO</th>\n",
              "      <th>geometry</th>\n",
              "      <th>geonamesLink</th>\n",
              "    </tr>\n",
              "  </thead>\n",
              "  <tbody>\n",
              "    <tr>\n",
              "      <th>0</th>\n",
              "      <td>http://www.wikidata.org/entity/Q2875612</td>\n",
              "      <td>Saint-Hubert Airport</td>\n",
              "      <td>Point(5.40417 50.0358)</td>\n",
              "      <td>None</td>\n",
              "      <td>None</td>\n",
              "      <td>EBSH</td>\n",
              "      <td>POINT (5.40417 50.0358)</td>\n",
              "      <td>None</td>\n",
              "    </tr>\n",
              "    <tr>\n",
              "      <th>1</th>\n",
              "      <td>http://www.wikidata.org/entity/Q16894473</td>\n",
              "      <td>Maillen Airport</td>\n",
              "      <td>Point(4.9265 50.375)</td>\n",
              "      <td>None</td>\n",
              "      <td>None</td>\n",
              "      <td>EBML</td>\n",
              "      <td>POINT (4.9265 50.375)</td>\n",
              "      <td>None</td>\n",
              "    </tr>\n",
              "    <tr>\n",
              "      <th>2</th>\n",
              "      <td>http://www.wikidata.org/entity/Q16890695</td>\n",
              "      <td>Couthuin Airport</td>\n",
              "      <td>Point(5.10719 50.5378)</td>\n",
              "      <td>9035031</td>\n",
              "      <td>None</td>\n",
              "      <td>EBHE</td>\n",
              "      <td>POINT (5.10719 50.5378)</td>\n",
              "      <td>https://www.geonames.org/9035031</td>\n",
              "    </tr>\n",
              "    <tr>\n",
              "      <th>3</th>\n",
              "      <td>http://www.wikidata.org/entity/Q2875370</td>\n",
              "      <td>Amougies Airfield</td>\n",
              "      <td>Point(3.48494 50.7401)</td>\n",
              "      <td>None</td>\n",
              "      <td>None</td>\n",
              "      <td>EBAM</td>\n",
              "      <td>POINT (3.48494 50.7401)</td>\n",
              "      <td>None</td>\n",
              "    </tr>\n",
              "    <tr>\n",
              "      <th>4</th>\n",
              "      <td>http://www.wikidata.org/entity/Q2930455</td>\n",
              "      <td>Ursel Airbase</td>\n",
              "      <td>Point(3.475555 51.144167)</td>\n",
              "      <td>None</td>\n",
              "      <td>None</td>\n",
              "      <td>EBUL</td>\n",
              "      <td>POINT (3.475555 51.144167)</td>\n",
              "      <td>None</td>\n",
              "    </tr>\n",
              "  </tbody>\n",
              "</table>\n",
              "</div>"
            ],
            "text/plain": [
              "                                    airport          airportLabel  \\\n",
              "0   http://www.wikidata.org/entity/Q2875612  Saint-Hubert Airport   \n",
              "1  http://www.wikidata.org/entity/Q16894473       Maillen Airport   \n",
              "2  http://www.wikidata.org/entity/Q16890695      Couthuin Airport   \n",
              "3   http://www.wikidata.org/entity/Q2875370     Amougies Airfield   \n",
              "4   http://www.wikidata.org/entity/Q2930455         Ursel Airbase   \n",
              "\n",
              "                        coor geonamesId  IATA  ICAO  \\\n",
              "0     Point(5.40417 50.0358)       None  None  EBSH   \n",
              "1       Point(4.9265 50.375)       None  None  EBML   \n",
              "2     Point(5.10719 50.5378)    9035031  None  EBHE   \n",
              "3     Point(3.48494 50.7401)       None  None  EBAM   \n",
              "4  Point(3.475555 51.144167)       None  None  EBUL   \n",
              "\n",
              "                     geometry                      geonamesLink  \n",
              "0     POINT (5.40417 50.0358)                              None  \n",
              "1       POINT (4.9265 50.375)                              None  \n",
              "2     POINT (5.10719 50.5378)  https://www.geonames.org/9035031  \n",
              "3     POINT (3.48494 50.7401)                              None  \n",
              "4  POINT (3.475555 51.144167)                              None  "
            ]
          },
          "metadata": {
            "tags": []
          },
          "execution_count": 16
        }
      ]
    },
    {
      "metadata": {
        "id": "4yLiLNVotWDq",
        "colab_type": "text"
      },
      "cell_type": "markdown",
      "source": [
        "### Export GeoJSON for later use in GIS tools\n",
        "\n",
        "Export GeoJSON file out of Google colab. You'll be able to import the file in [QGIS](https://www.qgis.org/en/site/), for example. Doing so, you'll be able to build your own maps."
      ]
    },
    {
      "metadata": {
        "id": "usuJCLB3Spz5",
        "colab_type": "code",
        "outputId": "97af700d-920c-4ab6-d702-3ff80594d2ed",
        "colab": {
          "base_uri": "https://localhost:8080/",
          "height": 52
        }
      },
      "cell_type": "code",
      "source": [
        "from google.colab import files\n",
        "\n",
        "gdf.to_file(driver = 'GeoJSON', filename= \"airports.geojson\",encoding='utf-8')\n",
        "\n",
        "files.download('airports.geojson')"
      ],
      "execution_count": 0,
      "outputs": [
        {
          "output_type": "stream",
          "text": [
            "/usr/local/lib/python3.6/dist-packages/geopandas/io/file.py:108: FionaDeprecationWarning: Use fiona.Env() instead.\n",
            "  with fiona.drivers():\n"
          ],
          "name": "stderr"
        }
      ]
    }
  ]
}